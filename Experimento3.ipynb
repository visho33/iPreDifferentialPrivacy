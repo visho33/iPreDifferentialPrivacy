{
 "cells": [
  {
   "attachments": {},
   "cell_type": "markdown",
   "metadata": {},
   "source": [
    "En este experimento vamos a comprobar el rendimiento del Algoritmo de Frank Wolfe con Varianza Reducida Privado"
   ]
  },
  {
   "attachments": {},
   "cell_type": "markdown",
   "metadata": {},
   "source": [
    "Llamamos las librerias necesarias para el proyecto"
   ]
  },
  {
   "cell_type": "code",
   "execution_count": 9,
   "metadata": {},
   "outputs": [],
   "source": [
    "from numpy import zeros\n",
    "from SetsManager import get_l1_ball, generate_data\n",
    "from Loss import LossFunction\n",
    "from PrivateVarianceReduced import PVarReducedFW\n",
    "from numpy.random import rand\n",
    "from matplotlib.pyplot import hist, title, xlabel, ylabel, xticks, show"
   ]
  },
  {
   "attachments": {},
   "cell_type": "markdown",
   "metadata": {},
   "source": [
    "Seteamos los parámetros comunes del experimento"
   ]
  },
  {
   "cell_type": "code",
   "execution_count": 10,
   "metadata": {},
   "outputs": [],
   "source": [
    "dim = 10\n",
    "radio = 1\n",
    "radio_data = 20\n",
    "epsilon = 2\n",
    "tamano_data = 50000\n",
    "tamano_test = 50000\n",
    "num_iter = 200\n",
    "f = LossFunction()\n",
    "f.L0 = 8*radio\n",
    "f.L1 = 2\n",
    "errores = []"
   ]
  },
  {
   "attachments": {},
   "cell_type": "markdown",
   "metadata": {},
   "source": [
    "Definimos las iteraciones y guardamos el error obtenido"
   ]
  },
  {
   "cell_type": "code",
   "execution_count": 11,
   "metadata": {},
   "outputs": [],
   "source": [
    "for t in range(num_iter):\n",
    "    x_star = 1/dim*(2*radio*rand(dim) - radio)\n",
    "    Y, Z = generate_data(x_star, tamano_data, radio_data, 0.05)\n",
    "    vertices = get_l1_ball(dim, radio)\n",
    "    x_zero = zeros(dim)\n",
    "    model = PVarReducedFW(Z, Y, epsilon, vertices, f, 2*radio, x_zero, 10)\n",
    "    model.run()\n",
    "    Y_test, Z_test = generate_data(x_star, tamano_test, radio_data, 0.05)\n",
    "    errores.append(f.set_f(model.x_final, Y_test, Z_test))"
   ]
  },
  {
   "attachments": {},
   "cell_type": "markdown",
   "metadata": {},
   "source": [
    "Graficámos los resultados del experimento"
   ]
  },
  {
   "cell_type": "code",
   "execution_count": 13,
   "metadata": {},
   "outputs": [
    {
     "data": {
      "image/png": "[encoded data removed]",
      "text/plain": [
       "<Figure size 432x288 with 1 Axes>"
      ]
     },
     "metadata": {
      "needs_background": "light"
     },
     "output_type": "display_data"
    }
   ],
   "source": [
    "intervalos = [0, 0.01, 0.02, 0.03, 0.04, 0.05, 0.06, 0.07, 0.08, 0.09, 0.1]\n",
    "hist(x = errores, bins = intervalos)\n",
    "title(\"Errores Frank Wolfe con Varianza Reducida Privado\")\n",
    "xlabel(\"Error\")\n",
    "ylabel(\"Frecuencia\")\n",
    "xticks(intervalos)\n",
    "show()"
   ]
  }
 ],
 "metadata": {
  "kernelspec": {
   "display_name": "Python 3",
   "language": "python",
   "name": "python3"
  },
  "language_info": {
   "codemirror_mode": {
    "name": "ipython",
    "version": 3
   },
   "file_extension": ".py",
   "mimetype": "text/x-python",
   "name": "python",
   "nbconvert_exporter": "python",
   "pygments_lexer": "ipython3",
   "version": "3.7.9"
  },
  "orig_nbformat": 4,
  "vscode": {
   "interpreter": {
    "hash": "9593ede365a5521c1ed2d2a9783e88919609c2776fbb622ae77e0f5ab5959458"
   }
  }
 },
 "nbformat": 4,
 "nbformat_minor": 2
}
